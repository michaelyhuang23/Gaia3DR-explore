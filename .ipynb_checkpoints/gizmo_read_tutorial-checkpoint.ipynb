{
 "cells": [
  {
   "cell_type": "markdown",
   "metadata": {},
   "source": [
    "# tutorial for reading a Gizmo snapshot\n",
    "\n",
    "@author: Andrew Wetzel <arwetzel@gmail.com>"
   ]
  },
  {
   "cell_type": "code",
   "execution_count": 1,
   "metadata": {},
   "outputs": [],
   "source": [
    "# First, move within a simulation directory, or point 'directory' below to a simulation directory.\n",
    "# This directory should contain either a snapshot file\n",
    "#    snapshot_???.hdf5\n",
    "# or a snapshot directory\n",
    "#    snapdir_???\n",
    "\n",
    "# In general, the simulation directory also should contain a text file:\n",
    "#     m12*_center.txt\n",
    "# that contains pre-computed galaxy center coordinates\n",
    "# and rotation vectors to align with the principal axes of the galaxy,\n",
    "# although that file is not required to read a snapshot.\n",
    "\n",
    "# The simulation directory also may contain text files:\n",
    "#    m12*_LSR{0,1,2}.txt\n",
    "# that contains the local standard of rest (LSR) coordinates\n",
    "# used by Ananke in creating Gaia synthetic surveys."
   ]
  },
  {
   "cell_type": "code",
   "execution_count": 2,
   "metadata": {},
   "outputs": [],
   "source": [
    "# Ensure that your python path points to this python package, then:\n",
    "\n",
    "import gizmo_read"
   ]
  },
  {
   "cell_type": "code",
   "execution_count": 3,
   "metadata": {},
   "outputs": [],
   "source": [
    "directory = './simulations/m12i'  # if running this notebook from within a simulation directory\n",
    "#directory = 'm12i/'   # if running higher-level directory\n",
    "#directory = 'm12f/'   # if running higher-level directory\n",
    "#directory = 'm12m/'   # if running higher-level directory"
   ]
  },
  {
   "cell_type": "markdown",
   "metadata": {},
   "source": [
    "# read particle data from a snapshot"
   ]
  },
  {
   "cell_type": "code",
   "execution_count": 4,
   "metadata": {},
   "outputs": [
    {
     "name": "stdout",
     "output_type": "stream",
     "text": [
      "reading header from:\n",
      "  work2/08983/tg882826/stampede2/gaia3dr-experiments/simulations/m12i/snapdir_600/snapshot_600.0.hdf5\n",
      "\n",
      "snapshot contains the following number of particles:\n",
      "  star   (id = 4): 13976485 particles\n",
      "\n",
      "reading star properties:\n",
      "  ['form.scalefactor', 'id', 'mass', 'massfraction', 'position', 'potential', 'velocity']\n",
      "\n",
      "reading particles from:\n",
      "  snapshot_600.0.hdf5\n",
      "  snapshot_600.1.hdf5\n",
      "  snapshot_600.2.hdf5\n",
      "  snapshot_600.3.hdf5\n",
      "\n",
      "reading galaxy center coordinates and principal axes from:  work2/08983/tg882826/stampede2/gaia3dr-experiments/simulations/m12i/m12i_res7100_center.txt\n",
      "  center position [kpc] = 41792.145, 44131.235, 46267.676\n",
      "  center velocity [km/s] = -52.5, 71.9, 95.2\n",
      "\n",
      "adjusting particle coordinates to be relative to galaxy center\n",
      "  and aligned with the principal axes\n",
      "\n"
     ]
    }
   ],
   "source": [
    "# read star particles (all properties)\n",
    "\n",
    "part = gizmo_read.read.Read.read_snapshot(species='star', directory=directory)"
   ]
  },
  {
   "cell_type": "code",
   "execution_count": 5,
   "metadata": {},
   "outputs": [
    {
     "name": "stdout",
     "output_type": "stream",
     "text": [
      "reading header from:\n",
      "  snapdir_600/snapshot_600.0.hdf5\n",
      "\n",
      "snapshot contains the following number of particles:\n",
      "  dark   (id = 1): 70514272 particles\n",
      "  dark.2 (id = 2): 5513331 particles\n",
      "  gas    (id = 0): 57060074 particles\n",
      "  star   (id = 4): 13976485 particles\n",
      "\n",
      "reading dark properties:\n",
      "  ['id', 'mass', 'position', 'potential', 'velocity']\n",
      "reading dark.2 properties:\n",
      "  ['id', 'mass', 'position', 'potential', 'velocity']\n",
      "reading gas properties:\n",
      "  ['density', 'electron.fraction', 'hydrogen.neutral.fraction', 'id', 'mass', 'massfraction', 'position', 'potential', 'temperature', 'velocity']\n",
      "reading star properties:\n",
      "  ['form.scalefactor', 'id', 'mass', 'massfraction', 'position', 'potential', 'velocity']\n",
      "\n",
      "reading particles from:\n",
      "  snapshot_600.0.hdf5\n",
      "  snapshot_600.1.hdf5\n",
      "  snapshot_600.2.hdf5\n",
      "  snapshot_600.3.hdf5\n",
      "\n",
      "reading galaxy center coordinates and principal axes from:  m12i_res7100_center.txt\n",
      "  center position [kpc] = 41792.145, 44131.235, 46267.676\n",
      "  center velocity [km/s] = -52.5, 71.9, 95.2\n",
      "\n",
      "adjusting particle coordinates to be relative to galaxy center\n",
      "  and aligned with the principal axes\n",
      "\n"
     ]
    }
   ],
   "source": [
    "# alternately, read all particle species (stars, gas, dark matter)\n",
    "\n",
    "part = gizmo_read.read.Read.read_snapshot(species='all', directory=directory)"
   ]
  },
  {
   "cell_type": "code",
   "execution_count": 6,
   "metadata": {},
   "outputs": [
    {
     "name": "stdout",
     "output_type": "stream",
     "text": [
      "reading header from:\n",
      "  snapdir_600/snapshot_600.0.hdf5\n",
      "\n",
      "snapshot contains the following number of particles:\n",
      "  star   (id = 4): 13976485 particles\n",
      "  dark   (id = 1): 70514272 particles\n",
      "\n",
      "reading star properties:\n",
      "  ['form.scalefactor', 'id', 'mass', 'massfraction', 'position', 'potential', 'velocity']\n",
      "reading dark properties:\n",
      "  ['id', 'mass', 'position', 'potential', 'velocity']\n",
      "\n",
      "reading particles from:\n",
      "  snapshot_600.0.hdf5\n",
      "  snapshot_600.1.hdf5\n",
      "  snapshot_600.2.hdf5\n",
      "  snapshot_600.3.hdf5\n",
      "\n",
      "reading galaxy center coordinates and principal axes from:  m12i_res7100_center.txt\n",
      "  center position [kpc] = 41792.145, 44131.235, 46267.676\n",
      "  center velocity [km/s] = -52.5, 71.9, 95.2\n",
      "\n",
      "adjusting particle coordinates to be relative to galaxy center\n",
      "  and aligned with the principal axes\n",
      "\n"
     ]
    }
   ],
   "source": [
    "# alternately, read just stars and dark matter (or any combination of species)\n",
    "\n",
    "part = gizmo_read.read.Read.read_snapshot(species=['star', 'dark'], directory=directory)"
   ]
  },
  {
   "cell_type": "code",
   "execution_count": 15,
   "metadata": {},
   "outputs": [
    {
     "name": "stdout",
     "output_type": "stream",
     "text": [
      "reading header from:\n",
      "  m12i/m12i_res7100/output/snapdir_600/snapshot_600.0.hdf5\n",
      "\n",
      "snapshot contains the following number of particles:\n",
      "  star   (id = 4): 13976485 particles\n",
      "\n",
      "read star  : ['mass', 'position', 'velocity']\n",
      "reading particles from:\n",
      "  snapshot_600.0.hdf5\n",
      "  snapshot_600.1.hdf5\n",
      "  snapshot_600.2.hdf5\n",
      "  snapshot_600.3.hdf5\n",
      "\n",
      "reading galaxy center coordinates and principal axes from:\n",
      "  m12i/m12i_res7100/output/m12i_res7100_center.txt\n",
      "  center position [kpc] = 41792.145, 44131.235, 46267.676\n",
      "  center velocity [km/s] = -52.5, 71.9, 95.2\n",
      "\n"
     ]
    }
   ],
   "source": [
    "# alternately, read only a subset of particle properties (to save memory)\n",
    "\n",
    "part = gizmo_read.read.Read.read_snapshot(species='star', properties=['position', 'velocity', 'mass'], directory=directory)"
   ]
  },
  {
   "cell_type": "code",
   "execution_count": 12,
   "metadata": {},
   "outputs": [
    {
     "name": "stdout",
     "output_type": "stream",
     "text": [
      "reading header from:\n",
      "  snapdir_600/snapshot_600.0.hdf5\n",
      "\n",
      "snapshot contains the following number of particles:\n",
      "  dark   (id = 1): 70514272 particles\n",
      "  dark.2 (id = 2): 5513331 particles\n",
      "  gas    (id = 0): 57060074 particles\n",
      "  star   (id = 4): 13976485 particles\n",
      "\n",
      "reading dark properties:\n",
      "  ['id', 'mass', 'position', 'potential', 'velocity']\n",
      "reading dark.2 properties:\n",
      "  ['id', 'mass', 'position', 'potential', 'velocity']\n",
      "reading gas properties:\n",
      "  ['density', 'electron.fraction', 'hydrogen.neutral.fraction', 'id', 'mass', 'massfraction', 'position', 'potential', 'temperature', 'velocity']\n",
      "reading star properties:\n",
      "  ['form.scalefactor', 'id', 'mass', 'massfraction', 'position', 'potential', 'velocity']\n",
      "\n",
      "reading particles from:\n",
      "  snapshot_600.0.hdf5\n",
      "  snapshot_600.1.hdf5\n",
      "  snapshot_600.2.hdf5\n",
      "  snapshot_600.3.hdf5\n",
      "\n",
      "periodically subsampling all particles by factor = 10\n",
      "\n",
      "reading galaxy center coordinates and principal axes from:  m12i_res7100_center.txt\n",
      "  center position [kpc] = 41792.145, 44131.235, 46267.676\n",
      "  center velocity [km/s] = -52.5, 71.9, 95.2\n",
      "\n",
      "adjusting particle coordinates to be relative to galaxy center\n",
      "  and aligned with the principal axes\n",
      "\n"
     ]
    }
   ],
   "source": [
    "# also can use particle_subsample_factor to periodically sub-sample particles, to save memory\n",
    "\n",
    "part = gizmo_read.read.Read.read_snapshot(species='all', directory=directory, particle_subsample_factor=10)"
   ]
  },
  {
   "cell_type": "markdown",
   "metadata": {},
   "source": [
    "# species dictionary"
   ]
  },
  {
   "cell_type": "code",
   "execution_count": 5,
   "metadata": {},
   "outputs": [
    {
     "data": {
      "text/plain": [
       "dict_keys(['star'])"
      ]
     },
     "execution_count": 5,
     "metadata": {},
     "output_type": "execute_result"
    }
   ],
   "source": [
    "# each particle species is stored as its own dictionary\n",
    "# 'star' = stars, 'gas' = gas, 'dark' = dark matter, 'dark.2' = low-resolution dark matter\n",
    "\n",
    "part.keys()"
   ]
  },
  {
   "cell_type": "code",
   "execution_count": 6,
   "metadata": {},
   "outputs": [],
   "source": [
    "# properties of particles are stored as dictionary"
   ]
  },
  {
   "cell_type": "code",
   "execution_count": 9,
   "metadata": {},
   "outputs": [
    {
     "name": "stdout",
     "output_type": "stream",
     "text": [
      "position\n",
      "mass\n",
      "massfraction\n",
      "id\n",
      "potential\n",
      "form.scalefactor\n",
      "velocity\n",
      "age\n",
      "metallicity.total\n",
      "metallicity.he\n",
      "metallicity.c\n",
      "metallicity.n\n",
      "metallicity.o\n",
      "metallicity.ne\n",
      "metallicity.mg\n",
      "metallicity.si\n",
      "metallicity.s\n",
      "metallicity.ca\n",
      "metallicity.fe\n"
     ]
    },
    {
     "data": {
      "text/plain": [
       "array([-0.40206844,  0.42362967, -2.278875  , ..., -0.8126563 ,\n",
       "       -0.7600721 , -0.81080335], dtype=float32)"
      ]
     },
     "execution_count": 9,
     "metadata": {},
     "output_type": "execute_result"
    }
   ],
   "source": [
    "# properties of star particles\n",
    "\n",
    "for k in part['star'].keys():\n",
    "    print(k)\n",
    "    \n",
    "part['star']['metallicity.mg']"
   ]
  },
  {
   "cell_type": "code",
   "execution_count": 15,
   "metadata": {},
   "outputs": [
    {
     "name": "stdout",
     "output_type": "stream",
     "text": [
      "position\n",
      "mass\n",
      "id\n",
      "potential\n",
      "velocity\n"
     ]
    }
   ],
   "source": [
    "# properties of dark matter particles\n",
    "\n",
    "for k in part['dark'].keys():\n",
    "    print(k)"
   ]
  },
  {
   "cell_type": "code",
   "execution_count": 16,
   "metadata": {},
   "outputs": [
    {
     "name": "stdout",
     "output_type": "stream",
     "text": [
      "position\n",
      "density\n",
      "electron.fraction\n",
      "temperature\n",
      "mass\n",
      "massfraction\n",
      "hydrogen.neutral.fraction\n",
      "id\n",
      "potential\n",
      "velocity\n",
      "metallicity.total\n",
      "metallicity.he\n",
      "metallicity.c\n",
      "metallicity.n\n",
      "metallicity.o\n",
      "metallicity.ne\n",
      "metallicity.mg\n",
      "metallicity.si\n",
      "metallicity.s\n",
      "metallicity.ca\n",
      "metallicity.fe\n"
     ]
    }
   ],
   "source": [
    "# properties of gas particles\n",
    "\n",
    "for k in part['gas'].keys():\n",
    "    print(k)"
   ]
  },
  {
   "cell_type": "markdown",
   "metadata": {},
   "source": [
    "# particle coordinates"
   ]
  },
  {
   "cell_type": "code",
   "execution_count": 12,
   "metadata": {},
   "outputs": [
    {
     "data": {
      "text/plain": [
       "array([[-11654.09598739, -27505.789732  ,     97.99660071],\n",
       "       [  -779.94753132,  -2279.68597445,  -3891.56936958],\n",
       "       [    99.92147039,  -2970.35500053,  -4517.99896558],\n",
       "       ...,\n",
       "       [ -2104.23988896,    705.05438691,   1109.94048758],\n",
       "       [ -2176.79767883,    731.90261502,   1341.27597757],\n",
       "       [ -2217.32051506,    743.00162203,   1306.93723145]])"
      ]
     },
     "execution_count": 12,
     "metadata": {},
     "output_type": "execute_result"
    }
   ],
   "source": [
    "# 3-D position of star particle (particle number x dimension number) in cartesian coordiantes [kpc physical]\n",
    "# if directory contains file m12*_center.txt, this reader automatically reads this file and \n",
    "# convert all positions to be in galactocentric coordinates, alined with principal axes of the galaxy\n",
    "\n",
    "part['star']['position']"
   ]
  },
  {
   "cell_type": "code",
   "execution_count": 13,
   "metadata": {},
   "outputs": [
    {
     "name": "stdout",
     "output_type": "stream",
     "text": [
      "[[ 2.98728375e+04  9.79966007e+01  4.31162326e+00]\n",
      " [ 2.40941617e+03 -3.89156937e+03  4.38274299e+00]\n",
      " [ 2.97203518e+03 -4.51799897e+03  4.74601587e+00]\n",
      " ...\n",
      " [ 2.21921770e+03  1.10994049e+03  2.81828559e+00]\n",
      " [ 2.29654732e+03  1.34127598e+03  2.81723822e+00]\n",
      " [ 2.33849560e+03  1.30693723e+03  2.81826206e+00]]\n"
     ]
    }
   ],
   "source": [
    "# you can convert these to cylindrical coordiantes...\n",
    "\n",
    "star_positions_cylindrical = gizmo_read.coordinate.get_positions_in_coordinate_system(\n",
    "    part['star']['position'], system_to='cylindrical')\n",
    "print(star_positions_cylindrical)"
   ]
  },
  {
   "cell_type": "code",
   "execution_count": 14,
   "metadata": {},
   "outputs": [
    {
     "name": "stdout",
     "output_type": "stream",
     "text": [
      "[[2.98729983e+04 1.56751588e+00 4.31162326e+00]\n",
      " [4.57707313e+03 2.58722025e+00 4.38274299e+00]\n",
      " [5.40789310e+03 2.55973891e+00 4.74601587e+00]\n",
      " ...\n",
      " [2.48130915e+03 1.10702917e+00 2.81828559e+00]\n",
      " [2.65953959e+03 1.04219463e+00 2.81723822e+00]\n",
      " [2.67892639e+03 1.06116142e+00 2.81826206e+00]]\n"
     ]
    }
   ],
   "source": [
    "# or spherical coordiantes\n",
    "\n",
    "star_positions_spherical = gizmo_read.coordinate.get_positions_in_coordinate_system(\n",
    "    part['star']['position'], system_to='spherical')\n",
    "print(star_positions_spherical)"
   ]
  },
  {
   "cell_type": "code",
   "execution_count": 15,
   "metadata": {},
   "outputs": [
    {
     "data": {
      "text/plain": [
       "array([[-1249.3088  , -3020.2078  ,    70.88912 ],\n",
       "       [ -485.50983 , -1427.3236  , -2429.9954  ],\n",
       "       [ -189.3278  ,  -453.3116  ,  -617.24634 ],\n",
       "       ...,\n",
       "       [ -171.34875 ,    35.00358 ,   101.70723 ],\n",
       "       [ -190.31752 ,    40.971817,   128.22827 ],\n",
       "       [ -194.36491 ,    41.584167,   125.331985]], dtype=float32)"
      ]
     },
     "execution_count": 15,
     "metadata": {},
     "output_type": "execute_result"
    }
   ],
   "source": [
    "# 3-D velocity of star particle (particle number x dimension number) in cartesian coordiantes [km/s]\n",
    "\n",
    "part['star']['velocity']"
   ]
  },
  {
   "cell_type": "code",
   "execution_count": 16,
   "metadata": {},
   "outputs": [
    {
     "name": "stdout",
     "output_type": "stream",
     "text": [
      "[[ 3.26827881e+03  7.08891220e+01  2.79372520e+01]\n",
      " [ 1.50763574e+03 -2.42999536e+03  2.66769290e+00]\n",
      " [ 4.46690033e+02 -6.17246338e+02 -2.04461365e+02]\n",
      " ...\n",
      " [ 1.73591949e+02  1.01707230e+02  2.12481480e+01]\n",
      " [ 1.93451324e+02  1.28228271e+02  2.18182030e+01]\n",
      " [ 1.97505783e+02  1.25331985e+02  2.23254719e+01]]\n"
     ]
    }
   ],
   "source": [
    "# you can convert these to cylindrical coordiantes...\n",
    "\n",
    "star_velocities_cylindrical = gizmo_read.coordinate.get_velocities_in_coordinate_system(\n",
    "    part['star']['velocity'], part['star']['position'], system_to='cylindrical')\n",
    "print(star_velocities_cylindrical)"
   ]
  },
  {
   "cell_type": "code",
   "execution_count": 17,
   "metadata": {},
   "outputs": [
    {
     "name": "stdout",
     "output_type": "stream",
     "text": [
      "[[ 3.2684939e+03 -6.0167347e+01  2.7937252e+01]\n",
      " [ 2.8596917e+03 -2.6651809e+00  2.6676929e+00]\n",
      " [ 7.6116461e+02 -3.3962818e+01 -2.0446136e+02]\n",
      " ...\n",
      " [ 2.0075180e+02 -1.3313036e+01  2.1248148e+01]\n",
      " [ 2.3171666e+02 -1.3164188e+01  2.1818203e+01]\n",
      " [ 2.3355156e+02 -1.3050239e+01  2.2325472e+01]]\n"
     ]
    }
   ],
   "source": [
    "# or spherical coordiantes\n",
    "\n",
    "star_velocities_spherical = gizmo_read.coordinate.get_velocities_in_coordinate_system(\n",
    "    part['star']['velocity'], part['star']['position'], system_to='spherical')\n",
    "print(star_velocities_spherical)"
   ]
  },
  {
   "cell_type": "code",
   "execution_count": 18,
   "metadata": {},
   "outputs": [
    {
     "name": "stdout",
     "output_type": "stream",
     "text": [
      "[41792.14534 44131.23473 46267.67629]\n",
      "[-52.45083  71.85282  95.19746]\n"
     ]
    }
   ],
   "source": [
    "# the galaxy center position [kpc comoving] and velocity [km/s] are stored via\n",
    "\n",
    "print(part.center_position)\n",
    "print(part.center_velocity)"
   ]
  },
  {
   "cell_type": "code",
   "execution_count": 19,
   "metadata": {},
   "outputs": [
    {
     "name": "stdout",
     "output_type": "stream",
     "text": [
      "[[-0.11681398  0.98166206 -0.1506456 ]\n",
      " [-0.86026934 -0.02421714  0.50926436]\n",
      " [-0.49627729 -0.18908499 -0.84732267]]\n"
     ]
    }
   ],
   "source": [
    "# the rotation vectors to align with the principal axes are stored via\n",
    "\n",
    "print(part.principal_axes_vectors)"
   ]
  },
  {
   "cell_type": "markdown",
   "metadata": {},
   "source": [
    "# LSR coordinates for mock"
   ]
  },
  {
   "cell_type": "code",
   "execution_count": 20,
   "metadata": {},
   "outputs": [
    {
     "name": "stdout",
     "output_type": "stream",
     "text": [
      "reading LSR coordinates from:\n",
      "  work2/08983/tg882826/stampede2/gaia3dr-experiments/simulations/m12i/m12i_res7100_LSR0.txt\n",
      "  LSR_0 position [kpc] = 0.000, 8.200, 0.000\n",
      "  LSR_0 velocity [km/s] = 224.7, -20.4, 3.9\n",
      "\n",
      "reading LSR coordinates from:\n",
      "  work2/08983/tg882826/stampede2/gaia3dr-experiments/simulations/m12i/m12i_res7100_LSR1.txt\n",
      "  LSR_1 position [kpc] = -7.101, -4.100, 0.000\n",
      "  LSR_1 velocity [km/s] = -80.4, 191.7, 1.5\n",
      "\n",
      "reading LSR coordinates from:\n",
      "  work2/08983/tg882826/stampede2/gaia3dr-experiments/simulations/m12i/m12i_res7100_LSR2.txt\n",
      "  LSR_2 position [kpc] = 7.101, -4.100, 0.000\n",
      "  LSR_2 velocity [km/s] = -87.3, -186.9, -9.5\n",
      "\n"
     ]
    }
   ],
   "source": [
    "# you can read the assumed local standard of rest (LSR) coordinates used in the Ananke mock catalogs\n",
    "# you need to input which LSR to use (currently 0, 1, or 2, because we use 3 per galaxy)\n",
    "\n",
    "gizmo_read.read.Read.read_lsr_coordinates(part, directory=directory, lsr_index=0)\n",
    "gizmo_read.read.Read.read_lsr_coordinates(part, directory=directory, lsr_index=1)\n",
    "gizmo_read.read.Read.read_lsr_coordinates(part, directory=directory, lsr_index=2)"
   ]
  },
  {
   "cell_type": "code",
   "execution_count": 21,
   "metadata": {},
   "outputs": [
    {
     "name": "stdout",
     "output_type": "stream",
     "text": [
      "[ 7.101408 -4.1       0.      ]\n",
      "[ -87.27351  -186.85666    -9.460751]\n"
     ]
    }
   ],
   "source": [
    "# the particle catalog can store one LSR at a time via\n",
    "\n",
    "print(part.lsr_position)\n",
    "print(part.lsr_velocity)"
   ]
  },
  {
   "cell_type": "code",
   "execution_count": 22,
   "metadata": {},
   "outputs": [
    {
     "name": "stdout",
     "output_type": "stream",
     "text": [
      "[[-11661.19739539 -27501.689732       97.99660071]\n",
      " [  -787.04893932  -2275.58597445  -3891.56936958]\n",
      " [    92.82006239  -2966.25500053  -4517.99896558]\n",
      " ...\n",
      " [ -2111.34129696    709.15438691   1109.94048758]\n",
      " [ -2183.89908683    736.00261502   1341.27597757]\n",
      " [ -2224.42192306    747.10162203   1306.93723145]]\n",
      "[[-1162.0353   -2833.351       80.34987 ]\n",
      " [ -398.23633  -1240.4669   -2420.5347  ]\n",
      " [ -102.05429   -266.45496   -607.7856  ]\n",
      " ...\n",
      " [  -84.07524    221.86023    111.167984]\n",
      " [ -103.04401    227.82848    137.68903 ]\n",
      " [ -107.0914     228.44083    134.79274 ]]\n"
     ]
    }
   ],
   "source": [
    "# you can convert coordinates to be relative to LSR via\n",
    "\n",
    "star_positions_wrt_lsr = part['star']['position'] - part.lsr_position\n",
    "star_velocities_wrt_lsr = part['star']['velocity'] - part.lsr_velocity\n",
    "print(star_positions_wrt_lsr)\n",
    "print(star_velocities_wrt_lsr)"
   ]
  },
  {
   "cell_type": "markdown",
   "metadata": {},
   "source": [
    "# other particle properties"
   ]
  },
  {
   "cell_type": "code",
   "execution_count": 23,
   "metadata": {},
   "outputs": [
    {
     "data": {
      "text/plain": [
       "array([ 6320.636 , 12393.744 ,  4689.9375, ...,  5306.1577,  5434.9014,\n",
       "        5381.738 ], dtype=float32)"
      ]
     },
     "execution_count": 23,
     "metadata": {},
     "output_type": "execute_result"
    }
   ],
   "source": [
    "# mass of star particle [M_sun]\n",
    "# note that star particles are created with an initial mass of ~7070 Msun, \n",
    "# but because of stellar mass loss they can be less massive by z = 0\n",
    "# a few star particles form from slightly higher-mass gas particles\n",
    "# (because gas particles gain mass via stellar mass loss)\n",
    "# so some star particles are a little more massive than 7070 Msun\n",
    "\n",
    "part['star']['mass']"
   ]
  },
  {
   "cell_type": "code",
   "execution_count": 24,
   "metadata": {},
   "outputs": [
    {
     "data": {
      "text/plain": [
       "array([0.37762484, 0.89081126, 0.25509095, ..., 0.2102304 , 0.24331866,\n",
       "       0.24331439], dtype=float32)"
      ]
     },
     "execution_count": 24,
     "metadata": {},
     "output_type": "execute_result"
    }
   ],
   "source": [
    "# formation scale-factor of star particle\n",
    "\n",
    "part['star']['form.scalefactor']"
   ]
  },
  {
   "cell_type": "code",
   "execution_count": 25,
   "metadata": {},
   "outputs": [
    {
     "data": {
      "text/plain": [
       "array([ 9.7604   ,  1.5698758, 11.521491 , ..., 12.089546 , 11.675283 ,\n",
       "       11.675339 ], dtype=float32)"
      ]
     },
     "execution_count": 25,
     "metadata": {},
     "output_type": "execute_result"
    }
   ],
   "source": [
    "# or more usefully, the current age of star particle (the lookback time to when it formed) [Gyr]\n",
    "\n",
    "part['star']['age']"
   ]
  },
  {
   "cell_type": "code",
   "execution_count": 31,
   "metadata": {},
   "outputs": [
    {
     "data": {
      "text/plain": [
       "array([169771.5 , 155252.42, 149944.81, ..., 164271.92, 165099.97,\n",
       "       165038.02], dtype=float32)"
      ]
     },
     "execution_count": 31,
     "metadata": {},
     "output_type": "execute_result"
    }
   ],
   "source": [
    "# gravitational potential at position of star particle [km^2 / s^2 physical]\n",
    "# note: normalization is arbitrary\n",
    "\n",
    "part['star']['potential']"
   ]
  },
  {
   "cell_type": "code",
   "execution_count": 32,
   "metadata": {},
   "outputs": [
    {
     "data": {
      "text/plain": [
       "array([22233198, 44478342, 60888656, ..., 46548833, 53716148, 26343616],\n",
       "      dtype=uint32)"
      ]
     },
     "execution_count": 32,
     "metadata": {},
     "output_type": "execute_result"
    }
   ],
   "source": [
    "# ID of star particle\n",
    "# NOTE: Ananke uses/references the *index* (within this array) of star particles, *not* their ID!\n",
    "# (because for technical reasons some star particles can end up with the same ID)\n",
    "# So you generally should never have to use this ID!\n",
    "\n",
    "part['star']['id']"
   ]
  },
  {
   "cell_type": "markdown",
   "metadata": {},
   "source": [
    "# metallicities"
   ]
  },
  {
   "cell_type": "code",
   "execution_count": 33,
   "metadata": {},
   "outputs": [
    {
     "data": {
      "text/plain": [
       "array([[6.0437708e-03, 2.5534785e-01, 7.1185018e-04, ..., 1.0893279e-04,\n",
       "        1.1798347e-05, 2.1929388e-04],\n",
       "       [5.4124359e-02, 3.1047031e-01, 1.0200043e-02, ..., 7.9930318e-04,\n",
       "        8.8536028e-05, 2.1123942e-03],\n",
       "       [8.2049592e-05, 2.5007892e-01, 1.0591144e-05, ..., 1.5061760e-06,\n",
       "        1.6711007e-07, 3.2767741e-06],\n",
       "       ...,\n",
       "       [2.3722230e-03, 2.5235808e-01, 3.1619624e-04, ..., 4.0682979e-05,\n",
       "        4.3580399e-06, 7.0938091e-05],\n",
       "       [2.5177756e-03, 2.5172576e-01, 2.0903027e-04, ..., 4.6831501e-05,\n",
       "        5.0457384e-06, 8.8196532e-05],\n",
       "       [2.2657898e-03, 2.5153482e-01, 1.8845814e-04, ..., 4.3525546e-05,\n",
       "        4.7441872e-06, 9.4178256e-05]], dtype=float32)"
      ]
     },
     "execution_count": 33,
     "metadata": {},
     "output_type": "execute_result"
    }
   ],
   "source": [
    "# elemental abundance (metallicity) is stored natively as *linear mass fraction*\n",
    "# one value for each element, in a particle_number x element_number array\n",
    "# the first value is the mass fraction of all metals (everything not H, He)\n",
    "# 0 = all metals (everything not H, He), 1 = He, 2 = C, 3 = N, 4 = O, 5 = Ne, 6 = Mg, 7 = Si, 8 = S, 9 = Ca, 10 = Fe\n",
    "\n",
    "part['star']['massfraction']"
   ]
  },
  {
   "cell_type": "code",
   "execution_count": 34,
   "metadata": {},
   "outputs": [
    {
     "name": "stdout",
     "output_type": "stream",
     "text": [
      "[6.0437708e-03 5.4124359e-02 8.2049592e-05 ... 2.3722230e-03 2.5177756e-03\n",
      " 2.2657898e-03]\n",
      "[2.1929388e-04 2.1123942e-03 3.2767741e-06 ... 7.0938091e-05 8.8196532e-05\n",
      " 9.4178256e-05]\n"
     ]
    }
   ],
   "source": [
    "# get individual elements by their index\n",
    "\n",
    "# total metal mass fraction (everything not H, He) is index 0\n",
    "print(part['star']['massfraction'][:, 0])\n",
    "\n",
    "# iron is index 10\n",
    "print(part['star']['massfraction'][:, 10])"
   ]
  },
  {
   "cell_type": "code",
   "execution_count": 35,
   "metadata": {},
   "outputs": [
    {
     "name": "stdout",
     "output_type": "stream",
     "text": [
      "[-0.3457968   0.60628796 -2.2130284  ... -0.7519493  -0.7260878\n",
      " -0.77188516]\n",
      "[-0.77062804  0.21312045 -2.596208   ... -1.2607751  -1.166203\n",
      " -1.137704  ]\n",
      "[-0.23240623  0.686199   -2.1059484  ... -0.6397585  -0.58530474\n",
      " -0.63681185]\n"
     ]
    }
   ],
   "source": [
    "# for convenience, this reader also stores 'metallicity' := log10(mass_fraction / mass_fraction_solar)\n",
    "# where mass_fraction_solar is from Asplund et al 2009\n",
    "\n",
    "print(part['star']['metallicity.total'])\n",
    "print(part['star']['metallicity.fe'])\n",
    "print(part['star']['metallicity.o'])"
   ]
  },
  {
   "cell_type": "code",
   "execution_count": 36,
   "metadata": {},
   "outputs": [
    {
     "data": {
      "text/plain": [
       "{'hydrogen': {'massfraction': 0.7381},\n",
       " 'helium': {'abundance': 0.08511380382023759, 'massfraction': 0.2485},\n",
       " 'metals': {'massfraction': 0.0134},\n",
       " 'total': {'massfraction': 0.0134},\n",
       " 'carbon': {'abundance': 0.0002691534803926914,\n",
       "  'massfraction': 0.0023671348133944836},\n",
       " 'nitrogen': {'abundance': 6.760829753919819e-05,\n",
       "  'massfraction': 0.0006934106379733356},\n",
       " 'oxygen': {'abundance': 0.0004897788193684457,\n",
       "  'massfraction': 0.0057379712715929084},\n",
       " 'neon': {'abundance': 8.51138038202376e-05,\n",
       "  'massfraction': 0.001257677752968965},\n",
       " 'magnesium': {'abundance': 3.9810717055349695e-05,\n",
       "  'massfraction': 0.0007085170384267316},\n",
       " 'silicon': {'abundance': 3.235936569296281e-05,\n",
       "  'massfraction': 0.000665482796817223},\n",
       " 'sulphur': {'abundance': 1.3182567385564074e-05,\n",
       "  'massfraction': 0.00030951800499731},\n",
       " 'calcium': {'abundance': 2.1877616239495517e-06,\n",
       "  'massfraction': 6.420379718268677e-05},\n",
       " 'iron': {'abundance': 3.1622776601683795e-05,\n",
       "  'massfraction': 0.001293166727100866},\n",
       " 'h': {'massfraction': 0.7381},\n",
       " 'he': {'abundance': 0.08511380382023759, 'massfraction': 0.2485},\n",
       " 'c': {'abundance': 0.0002691534803926914,\n",
       "  'massfraction': 0.0023671348133944836},\n",
       " 'n': {'abundance': 6.760829753919819e-05,\n",
       "  'massfraction': 0.0006934106379733356},\n",
       " 'o': {'abundance': 0.0004897788193684457,\n",
       "  'massfraction': 0.0057379712715929084},\n",
       " 'ne': {'abundance': 8.51138038202376e-05,\n",
       "  'massfraction': 0.001257677752968965},\n",
       " 'mg': {'abundance': 3.9810717055349695e-05,\n",
       "  'massfraction': 0.0007085170384267316},\n",
       " 'si': {'abundance': 3.235936569296281e-05,\n",
       "  'massfraction': 0.000665482796817223},\n",
       " 's': {'abundance': 1.3182567385564074e-05,\n",
       "  'massfraction': 0.00030951800499731},\n",
       " 'ca': {'abundance': 2.1877616239495517e-06,\n",
       "  'massfraction': 6.420379718268677e-05},\n",
       " 'fe': {'abundance': 3.1622776601683795e-05,\n",
       "  'massfraction': 0.001293166727100866}}"
      ]
     },
     "execution_count": 36,
     "metadata": {},
     "output_type": "execute_result"
    }
   ],
   "source": [
    "# see gizmo_read.constant for assumed solar values (Asplund et al 2009) and other constants\n",
    "\n",
    "gizmo_read.constant.sun_composition"
   ]
  },
  {
   "cell_type": "markdown",
   "metadata": {},
   "source": [
    "# additional information stored in sub-dictionaries"
   ]
  },
  {
   "cell_type": "code",
   "execution_count": 37,
   "metadata": {},
   "outputs": [
    {
     "data": {
      "text/plain": [
       "{'box.length': 85470.08547008547,\n",
       " 'compression.level': 0,\n",
       " 'compression.version': 'v0.2',\n",
       " 'has.cooling': 1,\n",
       " 'has.double.precision': 0,\n",
       " 'has.feedback': 1,\n",
       " 'has.ic.info': 3,\n",
       " 'has.metals': 11,\n",
       " 'has.star.formation': 1,\n",
       " 'has.star.age': 1,\n",
       " 'hubble': 0.702,\n",
       " 'particle.masses': array([0., 0., 0., 0., 0., 0.]),\n",
       " 'file.number.per.snapshot': 4,\n",
       " 'particle.numbers.in.file': array([13818978, 17322170,  1679251,        0,  3829217,        0],\n",
       "       dtype=int32),\n",
       " 'particle.numbers.total': array([57060074, 70514272,  5513331,        0, 13976485,        0],\n",
       "       dtype=uint32),\n",
       " 'particle.numbers.total.high.word': array([0, 0, 0, 0, 0, 0], dtype=uint32),\n",
       " 'omega_matter': 0.272,\n",
       " 'omega_lambda': 0.728,\n",
       " 'compression.readme': 'This snapshot is part of the Feedback in Realistic Environments (FIRE) project -- Use, modification, or distribution only permitted with approval of the PI and the FIRE team -- No warranty, use at your own risk -- compactify_hdf5 (c) RF 2018',\n",
       " 'redshift': 0.0,\n",
       " 'scalefactor': 1.0,\n",
       " 'box.length/h': 60000.0}"
      ]
     },
     "execution_count": 37,
     "metadata": {},
     "output_type": "execute_result"
    }
   ],
   "source": [
    "# dictionary of 'header' information about the simulation\n",
    "\n",
    "part.info"
   ]
  },
  {
   "cell_type": "code",
   "execution_count": 38,
   "metadata": {},
   "outputs": [
    {
     "data": {
      "text/plain": [
       "{'index': 600,\n",
       " 'redshift': 0.0,\n",
       " 'scalefactor': 1.0,\n",
       " 'time': 13.798746883488088,\n",
       " 'time.lookback': -13.798746883488105,\n",
       " 'time.hubble': 13.928664126506971}"
      ]
     },
     "execution_count": 38,
     "metadata": {},
     "output_type": "execute_result"
    }
   ],
   "source": [
    "# dictionary of information about this snapshot's scale-factor, redshift, time, lookback-time\n",
    "\n",
    "part.snapshot"
   ]
  },
  {
   "cell_type": "code",
   "execution_count": 39,
   "metadata": {},
   "outputs": [
    {
     "data": {
      "text/plain": [
       "{'omega_lambda': 0.728,\n",
       " 'omega_matter': 0.272,\n",
       " 'omega_baryon': 0.0455,\n",
       " 'omega_curvature': 0.0,\n",
       " 'omega_dm': 0.22650000000000003,\n",
       " 'baryon.fraction': 0.16727941176470587,\n",
       " 'hubble': 0.702,\n",
       " 'sigma_8': 0.807,\n",
       " 'n_s': 0.961,\n",
       " 'w': -1.0}"
      ]
     },
     "execution_count": 39,
     "metadata": {},
     "output_type": "execute_result"
    }
   ],
   "source": [
    "# dictionary class of cosmological parameters, with function for cosmological conversions\n",
    "\n",
    "part.Cosmology"
   ]
  },
  {
   "cell_type": "markdown",
   "metadata": {},
   "source": [
    "See gizmo_read.constant for assumed (astro)physical constants used throughout.\n",
    "\n",
    "See gizmo_read.coordinate for more coordiante transformation, zoom-in center "
   ]
  },
  {
   "cell_type": "code",
   "execution_count": null,
   "metadata": {},
   "outputs": [],
   "source": []
  }
 ],
 "metadata": {
  "anaconda-cloud": {},
  "kernelspec": {
   "display_name": "Python 3 (ipykernel)",
   "language": "python",
   "name": "python3"
  },
  "language_info": {
   "codemirror_mode": {
    "name": "ipython",
    "version": 3
   },
   "file_extension": ".py",
   "mimetype": "text/x-python",
   "name": "python",
   "nbconvert_exporter": "python",
   "pygments_lexer": "ipython3",
   "version": "3.9.10"
  }
 },
 "nbformat": 4,
 "nbformat_minor": 1
}
