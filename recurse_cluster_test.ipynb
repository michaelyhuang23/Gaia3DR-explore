{
 "cells": [
  {
   "cell_type": "code",
   "execution_count": 1,
   "id": "a7cb7d1d",
   "metadata": {},
   "outputs": [],
   "source": [
    "import pandas as pd\n",
    "import seaborn as sns\n",
    "import numpy as np\n",
    "from cluster_analysis import C_HDBSCAN, C_GaussianMixture, ClusterEvalIoU\n",
    "from recurse_cluster import RecursiveCluster"
   ]
  },
  {
   "cell_type": "code",
   "execution_count": 3,
   "id": "9d101991",
   "metadata": {},
   "outputs": [],
   "source": [
    "cluster1 = C_HDBSCAN(metric='euclidean', min_cluster_size=200, min_samples=20)\n",
    "cluster1.config()"
   ]
  },
  {
   "cell_type": "code",
   "execution_count": 4,
   "id": "9c2c000a",
   "metadata": {
    "scrolled": true
   },
   "outputs": [
    {
     "data": {
      "text/html": [
       "<div>\n",
       "<style scoped>\n",
       "    .dataframe tbody tr th:only-of-type {\n",
       "        vertical-align: middle;\n",
       "    }\n",
       "\n",
       "    .dataframe tbody tr th {\n",
       "        vertical-align: top;\n",
       "    }\n",
       "\n",
       "    .dataframe thead th {\n",
       "        text-align: right;\n",
       "    }\n",
       "</style>\n",
       "<table border=\"1\" class=\"dataframe\">\n",
       "  <thead>\n",
       "    <tr style=\"text-align: right;\">\n",
       "      <th></th>\n",
       "      <th>Unnamed: 0</th>\n",
       "      <th>feH</th>\n",
       "      <th>id_stars</th>\n",
       "      <th>radial_distance_stars</th>\n",
       "      <th>redshift_stars</th>\n",
       "      <th>snap_list_stars</th>\n",
       "      <th>star_mass</th>\n",
       "      <th>subhalo_mass_stars</th>\n",
       "      <th>subhalo_peak_mass</th>\n",
       "      <th>subhalo_stellar_mass_stars</th>\n",
       "      <th>...</th>\n",
       "      <th>vrstar</th>\n",
       "      <th>vthetastar</th>\n",
       "      <th>vxstar</th>\n",
       "      <th>vystar</th>\n",
       "      <th>vzstar</th>\n",
       "      <th>xstar</th>\n",
       "      <th>ystar</th>\n",
       "      <th>zstar</th>\n",
       "      <th>cluster_id</th>\n",
       "      <th>mgfe</th>\n",
       "    </tr>\n",
       "  </thead>\n",
       "  <tbody>\n",
       "    <tr>\n",
       "      <th>29707</th>\n",
       "      <td>29707</td>\n",
       "      <td>-2.018454</td>\n",
       "      <td>838243</td>\n",
       "      <td>12.432716</td>\n",
       "      <td>3.324324</td>\n",
       "      <td>108</td>\n",
       "      <td>4815.091839</td>\n",
       "      <td>1.505128e+09</td>\n",
       "      <td>1.908832e+09</td>\n",
       "      <td>2658320.0</td>\n",
       "      <td>...</td>\n",
       "      <td>-138.206238</td>\n",
       "      <td>-93.673630</td>\n",
       "      <td>154.327881</td>\n",
       "      <td>-77.277222</td>\n",
       "      <td>-64.244301</td>\n",
       "      <td>-4.066947</td>\n",
       "      <td>5.468583</td>\n",
       "      <td>10.398412</td>\n",
       "      <td>1</td>\n",
       "      <td>0.423883</td>\n",
       "    </tr>\n",
       "    <tr>\n",
       "      <th>29753</th>\n",
       "      <td>29753</td>\n",
       "      <td>-3.158415</td>\n",
       "      <td>3625199</td>\n",
       "      <td>13.983459</td>\n",
       "      <td>3.324324</td>\n",
       "      <td>108</td>\n",
       "      <td>4794.496221</td>\n",
       "      <td>1.505128e+09</td>\n",
       "      <td>1.908832e+09</td>\n",
       "      <td>2658320.0</td>\n",
       "      <td>...</td>\n",
       "      <td>134.368500</td>\n",
       "      <td>73.260727</td>\n",
       "      <td>46.631748</td>\n",
       "      <td>-146.044968</td>\n",
       "      <td>5.821562</td>\n",
       "      <td>4.447518</td>\n",
       "      <td>-11.160137</td>\n",
       "      <td>7.155980</td>\n",
       "      <td>1</td>\n",
       "      <td>-0.298731</td>\n",
       "    </tr>\n",
       "    <tr>\n",
       "      <th>29761</th>\n",
       "      <td>29761</td>\n",
       "      <td>-2.264334</td>\n",
       "      <td>4019904</td>\n",
       "      <td>11.334940</td>\n",
       "      <td>3.324324</td>\n",
       "      <td>108</td>\n",
       "      <td>5051.988002</td>\n",
       "      <td>1.505128e+09</td>\n",
       "      <td>1.908832e+09</td>\n",
       "      <td>2658320.0</td>\n",
       "      <td>...</td>\n",
       "      <td>164.856873</td>\n",
       "      <td>-6.858140</td>\n",
       "      <td>111.658516</td>\n",
       "      <td>121.620918</td>\n",
       "      <td>4.364055</td>\n",
       "      <td>8.027174</td>\n",
       "      <td>8.000997</td>\n",
       "      <td>-0.171431</td>\n",
       "      <td>1</td>\n",
       "      <td>0.449560</td>\n",
       "    </tr>\n",
       "    <tr>\n",
       "      <th>29778</th>\n",
       "      <td>29778</td>\n",
       "      <td>-2.191123</td>\n",
       "      <td>4851085</td>\n",
       "      <td>3.942200</td>\n",
       "      <td>3.324324</td>\n",
       "      <td>108</td>\n",
       "      <td>4586.961061</td>\n",
       "      <td>1.505128e+09</td>\n",
       "      <td>1.908832e+09</td>\n",
       "      <td>2658320.0</td>\n",
       "      <td>...</td>\n",
       "      <td>48.959938</td>\n",
       "      <td>-186.282364</td>\n",
       "      <td>339.985504</td>\n",
       "      <td>-48.394810</td>\n",
       "      <td>162.768936</td>\n",
       "      <td>-0.436346</td>\n",
       "      <td>2.650589</td>\n",
       "      <td>2.885293</td>\n",
       "      <td>1</td>\n",
       "      <td>0.449493</td>\n",
       "    </tr>\n",
       "    <tr>\n",
       "      <th>29802</th>\n",
       "      <td>29802</td>\n",
       "      <td>-2.827400</td>\n",
       "      <td>6162665</td>\n",
       "      <td>9.129913</td>\n",
       "      <td>3.324324</td>\n",
       "      <td>108</td>\n",
       "      <td>4407.890121</td>\n",
       "      <td>1.505128e+09</td>\n",
       "      <td>1.908832e+09</td>\n",
       "      <td>2658320.0</td>\n",
       "      <td>...</td>\n",
       "      <td>155.343323</td>\n",
       "      <td>368.343475</td>\n",
       "      <td>-51.868664</td>\n",
       "      <td>236.764603</td>\n",
       "      <td>-319.613495</td>\n",
       "      <td>0.362122</td>\n",
       "      <td>-4.580537</td>\n",
       "      <td>-7.889415</td>\n",
       "      <td>1</td>\n",
       "      <td>-0.476571</td>\n",
       "    </tr>\n",
       "  </tbody>\n",
       "</table>\n",
       "<p>5 rows × 21 columns</p>\n",
       "</div>"
      ],
      "text/plain": [
       "       Unnamed: 0       feH  id_stars  radial_distance_stars  redshift_stars  \\\n",
       "29707       29707 -2.018454    838243              12.432716        3.324324   \n",
       "29753       29753 -3.158415   3625199              13.983459        3.324324   \n",
       "29761       29761 -2.264334   4019904              11.334940        3.324324   \n",
       "29778       29778 -2.191123   4851085               3.942200        3.324324   \n",
       "29802       29802 -2.827400   6162665               9.129913        3.324324   \n",
       "\n",
       "       snap_list_stars    star_mass  subhalo_mass_stars  subhalo_peak_mass  \\\n",
       "29707              108  4815.091839        1.505128e+09       1.908832e+09   \n",
       "29753              108  4794.496221        1.505128e+09       1.908832e+09   \n",
       "29761              108  5051.988002        1.505128e+09       1.908832e+09   \n",
       "29778              108  4586.961061        1.505128e+09       1.908832e+09   \n",
       "29802              108  4407.890121        1.505128e+09       1.908832e+09   \n",
       "\n",
       "       subhalo_stellar_mass_stars  ...      vrstar  vthetastar      vxstar  \\\n",
       "29707                   2658320.0  ... -138.206238  -93.673630  154.327881   \n",
       "29753                   2658320.0  ...  134.368500   73.260727   46.631748   \n",
       "29761                   2658320.0  ...  164.856873   -6.858140  111.658516   \n",
       "29778                   2658320.0  ...   48.959938 -186.282364  339.985504   \n",
       "29802                   2658320.0  ...  155.343323  368.343475  -51.868664   \n",
       "\n",
       "           vystar      vzstar     xstar      ystar      zstar  cluster_id  \\\n",
       "29707  -77.277222  -64.244301 -4.066947   5.468583  10.398412           1   \n",
       "29753 -146.044968    5.821562  4.447518 -11.160137   7.155980           1   \n",
       "29761  121.620918    4.364055  8.027174   8.000997  -0.171431           1   \n",
       "29778  -48.394810  162.768936 -0.436346   2.650589   2.885293           1   \n",
       "29802  236.764603 -319.613495  0.362122  -4.580537  -7.889415           1   \n",
       "\n",
       "           mgfe  \n",
       "29707  0.423883  \n",
       "29753 -0.298731  \n",
       "29761  0.449560  \n",
       "29778  0.449493  \n",
       "29802 -0.476571  \n",
       "\n",
       "[5 rows x 21 columns]"
      ]
     },
     "execution_count": 4,
     "metadata": {},
     "output_type": "execute_result"
    }
   ],
   "source": [
    "df = pd.read_hdf('./data/m12i_cluster_data_large_mass_large_cluster.h5', key='star')\n",
    "cluster1.add_data(df, columns=['feH', 'mgfe'])\n",
    "df.head()"
   ]
  },
  {
   "cell_type": "code",
   "execution_count": 4,
   "id": "c26d100a",
   "metadata": {},
   "outputs": [],
   "source": [
    "labels = cluster1.fit()"
   ]
  },
  {
   "cell_type": "code",
   "execution_count": 5,
   "id": "cab6fa8c",
   "metadata": {},
   "outputs": [
    {
     "name": "stdout",
     "output_type": "stream",
     "text": [
      "(7.333333333333333, 0.44)\n",
      "22\n",
      "50\n",
      "3\n"
     ]
    }
   ],
   "source": [
    "eval_IoU1 = ClusterEvalIoU(labels, df['cluster_id'].to_numpy())\n",
    "print(eval_IoU1())\n",
    "print(eval_IoU1.TP)\n",
    "print(eval_IoU1.T)\n",
    "print(eval_IoU1.P)\n",
    "# IoU metric makes no sense when the cutoff is below 0.5"
   ]
  },
  {
   "cell_type": "code",
   "execution_count": 6,
   "id": "f660bb80",
   "metadata": {},
   "outputs": [
    {
     "name": "stdout",
     "output_type": "stream",
     "text": [
      "[ 0 -1  0 ...  0  0  0]\n",
      "[-1 -1 -1 ...  1  1  1]\n"
     ]
    }
   ],
   "source": [
    "print(labels)\n",
    "label_names = np.array([f'cluster {label}' for label in labels])\n",
    "labels_sorted = np.sort(labels)\n",
    "print(labels_sorted)"
   ]
  },
  {
   "cell_type": "code",
   "execution_count": 7,
   "id": "61d69315",
   "metadata": {},
   "outputs": [],
   "source": [
    "chosen_cluster_ids = np.random.choice(np.arange(1,50), 1)\n",
    "chosen_ids = np.argwhere(df['cluster_id'].isin(chosen_cluster_ids).to_numpy())[:,0]"
   ]
  },
  {
   "cell_type": "code",
   "execution_count": 8,
   "id": "e06af9ce",
   "metadata": {},
   "outputs": [
    {
     "data": {
      "text/plain": [
       "<AxesSubplot:xlabel='feH', ylabel='mgfe'>"
      ]
     },
     "execution_count": 8,
     "metadata": {},
     "output_type": "execute_result"
    },
    {
     "data": {
      "image/png": "[encoded data removed]",
      "text/plain": [
       "<Figure size 432x288 with 1 Axes>"
      ]
     },
     "metadata": {
      "needs_background": "light"
     },
     "output_type": "display_data"
    }
   ],
   "source": [
    "sns.scatterplot(data=df.iloc[chosen_ids], x='feH', y='mgfe', hue=np.array([f'cluster {id}' for id in df['cluster_id'].to_numpy()])[chosen_ids])"
   ]
  },
  {
   "cell_type": "code",
   "execution_count": 9,
   "id": "9063c14e",
   "metadata": {},
   "outputs": [
    {
     "data": {
      "text/plain": [
       "<AxesSubplot:xlabel='feH', ylabel='mgfe'>"
      ]
     },
     "execution_count": 9,
     "metadata": {},
     "output_type": "execute_result"
    },
    {
     "data": {
      "image/png": "[encoded data removed]",
      "text/plain": [
       "<Figure size 432x288 with 1 Axes>"
      ]
     },
     "metadata": {
      "needs_background": "light"
     },
     "output_type": "display_data"
    }
   ],
   "source": [
    "sns.scatterplot(data=df.iloc[chosen_ids], x='feH', y='mgfe', hue=label_names[chosen_ids])"
   ]
  },
  {
   "cell_type": "code",
   "execution_count": 10,
   "id": "88beb4f9",
   "metadata": {},
   "outputs": [
    {
     "name": "stdout",
     "output_type": "stream",
     "text": [
      "12\n"
     ]
    },
    {
     "data": {
      "text/plain": [
       "[('cluster 0', 12)]"
      ]
     },
     "execution_count": 10,
     "metadata": {},
     "output_type": "execute_result"
    }
   ],
   "source": [
    "from collections import Counter\n",
    "print(len(chosen_ids))\n",
    "Counter(label_names[chosen_ids]).most_common()"
   ]
  },
  {
   "cell_type": "code",
   "execution_count": 8,
   "id": "e46d996b",
   "metadata": {},
   "outputs": [],
   "source": [
    "from sklearn import metrics"
   ]
  },
  {
   "cell_type": "code",
   "execution_count": 12,
   "id": "c0389e90",
   "metadata": {},
   "outputs": [
    {
     "data": {
      "text/plain": [
       "0.297233688970999"
      ]
     },
     "execution_count": 12,
     "metadata": {},
     "output_type": "execute_result"
    }
   ],
   "source": [
    "metrics.rand_score(df['cluster_id'].to_numpy(), labels)"
   ]
  },
  {
   "cell_type": "code",
   "execution_count": 13,
   "id": "6c90a114",
   "metadata": {},
   "outputs": [
    {
     "name": "stdout",
     "output_type": "stream",
     "text": [
      "(7.333333333333333, 0.44)\n",
      "22\n"
     ]
    }
   ],
   "source": [
    "eval_IoU1 = ClusterEvalIoU(labels, df['cluster_id'].to_numpy())\n",
    "print(eval_IoU1())\n",
    "print(eval_IoU1.TP)"
   ]
  },
  {
   "cell_type": "code",
   "execution_count": 14,
   "id": "9e4f43ea",
   "metadata": {},
   "outputs": [
    {
     "name": "stdout",
     "output_type": "stream",
     "text": [
      "3\n"
     ]
    }
   ],
   "source": [
    "print(eval_IoU1.P)"
   ]
  },
  {
   "cell_type": "markdown",
   "id": "9c1c9043",
   "metadata": {},
   "source": [
    "### Now let's test out recursive clustering"
   ]
  },
  {
   "cell_type": "code",
   "execution_count": 27,
   "id": "07ff36cc",
   "metadata": {},
   "outputs": [],
   "source": [
    "clustera = C_HDBSCAN(metric='euclidean', min_cluster_size=2, min_samples=1, allow_single_cluster=True)\n",
    "clusterb = C_HDBSCAN(metric='euclidean', min_cluster_size=2, min_samples=1, allow_single_cluster=True)\n",
    "cluster2 = RecursiveCluster(subspace1_clusterer=clustera, subspace2_clusterer=clusterb)\n",
    "cluster2.config()"
   ]
  },
  {
   "cell_type": "code",
   "execution_count": 28,
   "id": "f706988b",
   "metadata": {},
   "outputs": [],
   "source": [
    "cluster2.add_data(df, subspace1=['feH','mgfe'], subspace2=['feH','mgfe'])"
   ]
  },
  {
   "cell_type": "code",
   "execution_count": 29,
   "id": "5ee635a9",
   "metadata": {},
   "outputs": [
    {
     "name": "stdout",
     "output_type": "stream",
     "text": [
      "[0 0 0 ... 0 0 0]\n",
      "[29429   166    -1 ... 34129 16868 37740]\n",
      "44066\n",
      "44066\n",
      "[   -1   166    -1 ...    -1    -1 37740]\n",
      "[   -1   166    -1 ...    -1    -1 37740]\n",
      "44066\n",
      "44066\n"
     ]
    }
   ],
   "source": [
    "labels2 = cluster2.fit()"
   ]
  },
  {
   "cell_type": "code",
   "execution_count": 18,
   "id": "c97f3763",
   "metadata": {},
   "outputs": [
    {
     "name": "stdout",
     "output_type": "stream",
     "text": [
      "[   -1    -1  7579 ... 43818    -1 48470]\n",
      "[   -1    -1    -1 ... 51662 51663 51663]\n"
     ]
    }
   ],
   "source": [
    "print(labels2)\n",
    "label2_names = np.array([f'cluster {label}' for label in labels2])\n",
    "labels_sorted = np.sort(labels2)\n",
    "print(labels_sorted)"
   ]
  },
  {
   "cell_type": "code",
   "execution_count": 19,
   "id": "2ac51109",
   "metadata": {},
   "outputs": [],
   "source": [
    "chosen_ids = np.argwhere(df['cluster_id'].isin(chosen_cluster_ids).to_numpy())[:,0]"
   ]
  },
  {
   "cell_type": "code",
   "execution_count": 20,
   "id": "f2782ab7",
   "metadata": {},
   "outputs": [],
   "source": [
    "#sns.scatterplot(data=df.iloc[chosen_ids], x='feH', y='mgfe', hue=label2_names[chosen_ids])"
   ]
  },
  {
   "cell_type": "code",
   "execution_count": 21,
   "id": "a55d30a9",
   "metadata": {},
   "outputs": [
    {
     "data": {
      "text/plain": [
       "0.7065505895246961"
      ]
     },
     "execution_count": 21,
     "metadata": {},
     "output_type": "execute_result"
    }
   ],
   "source": [
    "metrics.rand_score(df['cluster_id'].to_numpy(), labels2)"
   ]
  },
  {
   "cell_type": "code",
   "execution_count": 22,
   "id": "a3379f24",
   "metadata": {},
   "outputs": [
    {
     "data": {
      "text/plain": [
       "0.1470609716211652"
      ]
     },
     "execution_count": 22,
     "metadata": {},
     "output_type": "execute_result"
    }
   ],
   "source": [
    "metrics.rand_score(labels, labels2)"
   ]
  },
  {
   "cell_type": "code",
   "execution_count": 23,
   "id": "b7c860d7",
   "metadata": {},
   "outputs": [
    {
     "name": "stdout",
     "output_type": "stream",
     "text": [
      "(7.333333333333333, 0.44)\n"
     ]
    }
   ],
   "source": [
    "eval_IoU1 = ClusterEvalIoU(labels, df['cluster_id'].to_numpy())\n",
    "print(eval_IoU1())"
   ]
  },
  {
   "cell_type": "code",
   "execution_count": 24,
   "id": "13e7d8b0",
   "metadata": {},
   "outputs": [
    {
     "name": "stdout",
     "output_type": "stream",
     "text": [
      "(1.9355463079454177e-05, 0.02)\n"
     ]
    }
   ],
   "source": [
    "eval_IoU2 = ClusterEvalIoU(labels2, df['cluster_id'].to_numpy())\n",
    "print(eval_IoU2())"
   ]
  },
  {
   "cell_type": "code",
   "execution_count": 25,
   "id": "ac2cdd33",
   "metadata": {},
   "outputs": [
    {
     "name": "stdout",
     "output_type": "stream",
     "text": [
      "(71.33333333333333, 0.004142069099003194)\n"
     ]
    }
   ],
   "source": [
    "eval_IoU3 = ClusterEvalIoU(labels, labels2)\n",
    "print(eval_IoU3())"
   ]
  },
  {
   "cell_type": "markdown",
   "id": "88ae243c",
   "metadata": {},
   "source": [
    "### Now let's test HDBSCAN + GMM"
   ]
  },
  {
   "cell_type": "code",
   "execution_count": 5,
   "id": "aea43d77",
   "metadata": {},
   "outputs": [],
   "source": [
    "clustera = C_HDBSCAN(metric='euclidean', min_cluster_size=2, min_samples=1, allow_single_cluster=True)\n",
    "clusterb = C_GaussianMixture(n_components=1)\n",
    "cluster3 = RecursiveCluster(subspace1_clusterer=clustera, subspace2_clusterer=clusterb)\n",
    "cluster3.config()\n",
    "cluster3.add_data(df, subspace1=['feH','mgfe'], subspace2=['feH','mgfe'])"
   ]
  },
  {
   "cell_type": "code",
   "execution_count": 6,
   "id": "4d3c6c7c",
   "metadata": {},
   "outputs": [
    {
     "name": "stdout",
     "output_type": "stream",
     "text": [
      "[0 0 0 ... 0 0 0]\n",
      "[29429   166    -1 ... 34129 16868 37740]\n",
      "44066\n",
      "44066\n",
      "[29429   166    -1 ... 34129 16868 37740]\n",
      "[   -1   166    -1 ...    -1    -1 37740]\n",
      "44066\n",
      "44066\n",
      "[   -1   166    -1 ...    -1    -1 37740]\n",
      "[   -1   166    -1 ...    -1    -1 37740]\n",
      "44066\n",
      "44066\n"
     ]
    }
   ],
   "source": [
    "labels3 = cluster3.fit()"
   ]
  },
  {
   "cell_type": "code",
   "execution_count": 9,
   "id": "33c45693",
   "metadata": {},
   "outputs": [
    {
     "data": {
      "text/plain": [
       "0.681046828478812"
      ]
     },
     "execution_count": 9,
     "metadata": {},
     "output_type": "execute_result"
    }
   ],
   "source": [
    "metrics.rand_score(df['cluster_id'].to_numpy(), labels3)"
   ]
  },
  {
   "cell_type": "code",
   "execution_count": 10,
   "id": "ef00261a",
   "metadata": {},
   "outputs": [
    {
     "name": "stdout",
     "output_type": "stream",
     "text": [
      "(2.26927179068237e-05, 0.02)\n"
     ]
    }
   ],
   "source": [
    "eval_IoU4 = ClusterEvalIoU(labels3, df['cluster_id'].to_numpy())\n",
    "print(eval_IoU4())"
   ]
  },
  {
   "cell_type": "code",
   "execution_count": null,
   "id": "61928803",
   "metadata": {},
   "outputs": [],
   "source": []
  }
 ],
 "metadata": {
  "kernelspec": {
   "display_name": "Python 3 (ipykernel)",
   "language": "python",
   "name": "python3"
  },
  "language_info": {
   "codemirror_mode": {
    "name": "ipython",
    "version": 3
   },
   "file_extension": ".py",
   "mimetype": "text/x-python",
   "name": "python",
   "nbconvert_exporter": "python",
   "pygments_lexer": "ipython3",
   "version": "3.9.12"
  }
 },
 "nbformat": 4,
 "nbformat_minor": 5
}
