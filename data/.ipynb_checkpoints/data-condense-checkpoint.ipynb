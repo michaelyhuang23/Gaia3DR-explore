{
 "cells": [
  {
   "cell_type": "code",
   "execution_count": 1,
   "id": "623cf0c6",
   "metadata": {},
   "outputs": [],
   "source": [
    "import pandas as pd\n",
    "import numpy as np\n",
    "import os"
   ]
  },
  {
   "cell_type": "code",
   "execution_count": null,
   "id": "ecc0b667",
   "metadata": {},
   "outputs": [
    {
     "name": "stdout",
     "output_type": "stream",
     "text": [
      "2\n",
      "216\n",
      "1\n",
      "1\n",
      "142\n",
      "1\n",
      "1\n",
      "2\n",
      "1\n",
      "1\n",
      "2\n",
      "6\n",
      "24\n",
      "241\n",
      "11\n",
      "1\n",
      "0\n"
     ]
    }
   ],
   "source": [
    "data = {}\n",
    "root = 'caterpillar/caterpillar_data'\n",
    "for file in os.listdir(root):\n",
    "    name, num = file.split('.')[0].split('_')\n",
    "    file_path = os.path.join(root, file)\n",
    "    df = pd.read_hdf(file_path, key='star')\n",
    "    \n",
    "    df.sort_values('idstar', inplace=True, kind='stable')\n",
    "    prev_val = -1\n",
    "    prev_id = 0\n",
    "    df['cluster_id'] = 0\n",
    "    cluster_ids = np.zeros((len(df)), dtype=np.int32)\n",
    "    for i, (idx, row) in enumerate(df.iterrows()):\n",
    "        if (row['idstar'] - prev_val)>0.1:\n",
    "            prev_id+=1\n",
    "            prev_val = row['idstar']\n",
    "        cluster_ids[i] = prev_id\n",
    "    df['cluster_id'] = cluster_ids\n",
    "    print(prev_id)\n",
    "    if name not in data.keys():\n",
    "        data[name] = {}\n",
    "    data[name][num] = df\n",
    "    "
   ]
  },
  {
   "cell_type": "code",
   "execution_count": null,
   "id": "e8d1c4e9",
   "metadata": {},
   "outputs": [],
   "source": [
    "for key in data.keys():\n",
    "    max_id = 0\n",
    "    data[key]['all'] = pd.DataFrame(columns = data[key]['0'].columns)\n",
    "    data[key]['all']['cluster_id'] = data[key]['all']['cluster_id'].astype('int32')\n",
    "    for i in range(0,5):\n",
    "        df = data[key][str(i)].copy()\n",
    "        df['cluster_id'] += max_id\n",
    "        if len(df)>0:\n",
    "            data[key]['all'] = pd.concat([data[key]['all'], df])\n",
    "        max_id = data[key]['all']['cluster_id'].max()\n",
    "    print(data[key]['0']['cluster_id'].max(), data[key]['1']['cluster_id'].max(), data[key]['2']['cluster_id'].max(),\\\n",
    "          data[key]['3']['cluster_id'].max(), data[key]['4']['cluster_id'].max(), data[key]['all']['cluster_id'].max())"
   ]
  },
  {
   "cell_type": "code",
   "execution_count": null,
   "id": "e1c7efcb",
   "metadata": {},
   "outputs": [],
   "source": [
    "print(data['1079897']['all'].dtypes)"
   ]
  },
  {
   "cell_type": "code",
   "execution_count": null,
   "id": "844ba8c8",
   "metadata": {},
   "outputs": [],
   "source": [
    "output = 'caterpillar/labeled_caterpillar_data'\n",
    "for key in data.keys():\n",
    "    for key2 in data[key].keys():\n",
    "        data[key][key2].to_hdf(os.path.join(output, f'labeled_{key}_{key2}.h5'), key='star')"
   ]
  },
  {
   "cell_type": "code",
   "execution_count": null,
   "id": "7932b1db",
   "metadata": {},
   "outputs": [],
   "source": []
  }
 ],
 "metadata": {
  "kernelspec": {
   "display_name": "Python 3 (ipykernel)",
   "language": "python",
   "name": "python3"
  },
  "language_info": {
   "codemirror_mode": {
    "name": "ipython",
    "version": 3
   },
   "file_extension": ".py",
   "mimetype": "text/x-python",
   "name": "python",
   "nbconvert_exporter": "python",
   "pygments_lexer": "ipython3",
   "version": "3.9.14"
  }
 },
 "nbformat": 4,
 "nbformat_minor": 5
}
